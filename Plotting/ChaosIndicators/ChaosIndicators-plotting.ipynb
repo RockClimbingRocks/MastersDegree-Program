{
 "cells": [
  {
   "cell_type": "code",
   "execution_count": 1,
   "metadata": {},
   "outputs": [
    {
     "data": {
      "text/plain": [
       "15-element Vector{String}:\n",
       " \"-o\"\n",
       " \"-x\"\n",
       " \"-v\"\n",
       " \"-H\"\n",
       " \"-D\"\n",
       " \"-s\"\n",
       " \"-d\"\n",
       " \"-P\"\n",
       " \"-2\"\n",
       " \"-|\"\n",
       " \"-<\"\n",
       " \"->\"\n",
       " \"-_\"\n",
       " \"-+\"\n",
       " \"-,\""
      ]
     },
     "metadata": {},
     "output_type": "display_data"
    }
   ],
   "source": [
    "using Plots;\n",
    "pythonplot();\n",
    "using LinearAlgebra;\n",
    "using JLD2;\n",
    "using LaTeXStrings;\n",
    "\n",
    "include(\"../../Hamiltonians/H2.jl\");\n",
    "using .H2;\n",
    "include(\"../../Hamiltonians/H4.jl\");\n",
    "using .H4;\n",
    "include(\"../../Helpers/ChaosIndicators.jl\");\n",
    "using .ChaosIndicators;\n",
    "\n",
    "colors = [:dodgerblue :darkviolet :limegreen :indianred :magenta :darkblue :aqua :deeppink :dimgray :red :royalblue :slategray :black :lightseagreen :forestgreen :palevioletred]\n",
    "markers = [\"o\",\"x\",\"v\",\"*\",\"H\",\"D\",\"s\",\"d\",\"P\",\"2\",\"|\",\"<\",\">\",\"_\",\"+\",\",\"]\n",
    "markers_line = [\"-o\",\"-x\",\"-v\",\"-H\",\"-D\",\"-s\",\"-d\",\"-P\",\"-2\",\"-|\",\"-<\",\"->\",\"-_\",\"-+\",\"-,\"]\n"
   ]
  },
  {
   "attachments": {},
   "cell_type": "markdown",
   "metadata": {},
   "source": [
    "Level Spacing Ratio:"
   ]
  },
  {
   "cell_type": "code",
   "execution_count": 2,
   "metadata": {},
   "outputs": [
    {
     "data": {
      "text/plain": [
       "GetLevelSpacingRatioData (generic function with 1 method)"
      ]
     },
     "metadata": {},
     "output_type": "display_data"
    }
   ],
   "source": [
    "function GetLevelSpacingRatioData(L′s:: Vector{Int}, q′s:: Vector{Float64}, maxNumbOfIter:: Int64)\n",
    "    r = Vector{Vector{Float64}}(undef, length(L′s))\n",
    "\n",
    "    for (i,L) in enumerate(L′s)\n",
    "        println(L, \"--------\")\n",
    "        r[i] = ChaosIndicators.LevelSpacingRatio(L, q′s, maxNumbOfIter)\n",
    "\n",
    "        folder = jldopen(\"./Data-ChaosIndicators/LevelSpacingRatio_L$(L)_Iter$(maxNumbOfIter).jld2\", \"w\");\n",
    "        folder[\"r\"] = r[i];\n",
    "        folder[\"q′s\"] = q′s;\n",
    "        close(folder)        \n",
    "    end\n",
    "\n",
    "    println(r)\n",
    "\n",
    "end\n"
   ]
  },
  {
   "cell_type": "code",
   "execution_count": 3,
   "metadata": {},
   "outputs": [
    {
     "data": {
      "text/plain": [
       "PlotLevelSpacingRatio (generic function with 1 method)"
      ]
     },
     "metadata": {},
     "output_type": "display_data"
    }
   ],
   "source": [
    "function PlotLevelSpacingRatio(L′s:: Vector{Int}, q′s:: Vector{Float64}, maxNumbOfIter:: Int64, dataLocation_prefix:: String, title:: String)\n",
    "\n",
    "    levelSpacingRatio = plot(xscale=:log10, minorgrid=true, framestyle = :box, legend=:topleft, title = \"Level spacing ratio\");\n",
    "\n",
    "    plot!(levelSpacingRatio, q′s, 0.3863 .* ones(Float64, length(q′s)), ls=:dash, label=\"Poisson\");\n",
    "    plot!(levelSpacingRatio, q′s, 0.5359 .* ones(Float64, length(q′s)), ls=:dash, label=\"GOE\");\n",
    "\n",
    "    for (i,L) in enumerate(L′s) \n",
    "        folder = jldopen(dataLocation_prefix * \"_L$(L)_Iter$(maxNumbOfIter).jld2\", \"r\");\n",
    "        r = folder[\"r\"];\n",
    "        q′s = folder[\"q′s\"];\n",
    "        close(folder);\n",
    "\n",
    "        plot!(levelSpacingRatio, q′s, r, lc = colors[i], label=\"L=$(L)\");\n",
    "\n",
    "    end\n",
    "\n",
    "    xlabel!(L\"q\");\n",
    "    ylabel!(L\"r\");\n",
    "\n",
    "    return levelSpacingRatio;\n",
    "end"
   ]
  },
  {
   "attachments": {},
   "cell_type": "markdown",
   "metadata": {},
   "source": [
    "Informational entropy"
   ]
  },
  {
   "cell_type": "code",
   "execution_count": 4,
   "metadata": {},
   "outputs": [
    {
     "data": {
      "text/plain": [
       "GetInformationalEntropyData (generic function with 1 method)"
      ]
     },
     "metadata": {},
     "output_type": "display_data"
    }
   ],
   "source": [
    "function GetInformationalEntropyData(L′s:: Vector{Int}, q′s:: Vector{Float64}, maxNumbOfIter:: Int64)\n",
    "    S = Vector{Vector{Float64}}(undef, length(L′s))\n",
    "\n",
    "    for (i,L) in enumerate(L′s)\n",
    "        println(L, \"--------\")\n",
    "        S[i] = ChaosIndicators.InformationalEntropy(L, q′s, maxNumbOfIter)\n",
    "\n",
    "        folder = jldopen(\"./Data-ChaosIndicators/InformationalEntropy_L$(L)_Iter$(maxNumbOfIter)_fixedNormalization.jld2\", \"w\");\n",
    "        folder[\"S\"] = S[i];\n",
    "        folder[\"q′s\"] = q′s;\n",
    "        close(folder)        \n",
    "    end\n",
    "\n",
    "    println(S)\n",
    "\n",
    "end"
   ]
  },
  {
   "cell_type": "code",
   "execution_count": 5,
   "metadata": {},
   "outputs": [
    {
     "data": {
      "text/plain": [
       "PlotInformationalEntropy (generic function with 1 method)"
      ]
     },
     "metadata": {},
     "output_type": "display_data"
    }
   ],
   "source": [
    "function PlotInformationalEntropy(L′s:: Vector{Int}, q′s:: Vector{Float64}, maxNumbOfIter:: Int64, dataLocation_prefix:: String, title:: String)\n",
    "    informationalEntropy = plot(xscale=:log10, minorgrid=true, framestyle = :box, legend=:topleft, title = title);\n",
    "\n",
    "    plot!(informationalEntropy, q′s,  ones(Float64, length(q′s)), ls=:dash, label=\"\");\n",
    "\n",
    "    for (i,L) in enumerate(L′s) \n",
    "        folder = jldopen(dataLocation_prefix * \"_L$(L)_Iter$(maxNumbOfIter).jld2\", \"r\");\n",
    "        S = folder[\"S\"];\n",
    "        q′s = folder[\"q′s\"];\n",
    "        close(folder);\n",
    "        \n",
    "        plot!(informationalEntropy, q′s, S, lc = colors[i], label=\"L=$(L)\");\n",
    "\n",
    "    end\n",
    "\n",
    "    xlabel!(L\"q\");\n",
    "    ylabel!(L\"S\");\n",
    "\n",
    "    return informationalEntropy;\n",
    "end"
   ]
  },
  {
   "attachments": {},
   "cell_type": "markdown",
   "metadata": {},
   "source": [
    "Retrieve data:"
   ]
  },
  {
   "cell_type": "code",
   "execution_count": 30,
   "metadata": {},
   "outputs": [
    {
     "data": {
      "text/plain": [
       "100"
      ]
     },
     "metadata": {},
     "output_type": "display_data"
    }
   ],
   "source": [
    "L′s = [6,8,10,12];\n",
    "x= LinRange(-5, 1, 20);\n",
    "q′s = 10 .^(x);\n",
    "maxNumbOfIter = 100\n",
    "\n",
    "# GetLevelSpacingRatioData(L′s, q′s, maxNumbOfIter)"
   ]
  },
  {
   "cell_type": "code",
   "execution_count": 31,
   "metadata": {},
   "outputs": [
    {
     "data": {
      "text/plain": [
       "200"
      ]
     },
     "metadata": {},
     "output_type": "display_data"
    }
   ],
   "source": [
    "L′s = [6,8,10,12];\n",
    "x= LinRange(-5, 1, 20);\n",
    "q′s = 10 .^(x);\n",
    "maxNumbOfIter = 200\n",
    "\n",
    "# GetInformationalEntropyData(L′s, q′s, maxNumbOfIter)"
   ]
  },
  {
   "cell_type": "code",
   "execution_count": 32,
   "metadata": {},
   "outputs": [
    {
     "data": {
      "text/plain": [
       "JoinTwoLSRFiles (generic function with 1 method)"
      ]
     },
     "metadata": {},
     "output_type": "display_data"
    }
   ],
   "source": [
    "function JoinTwoLSRFiles(L′s, maxNumbOfIter1, maxNumbOfIter2)\n",
    "    \n",
    "    for L in L′s\n",
    "        folder1 = jldopen(\"./Data/LevelSpacingRatio_L$(L)_Iter$(maxNumbOfIter1).jld2\", \"r\");\n",
    "        r1 = folder1[\"r\"];\n",
    "        q′s1 = folder1[\"q′s\"];\n",
    "        close(folder1);\n",
    "        \n",
    "        folder2 = jldopen(\"./Data/LevelSpacingRatio_L$(L)_Iter$(maxNumbOfIter2).jld2\", \"r\");\n",
    "        r2 = folder2[\"r\"];\n",
    "        q′s2 = folder2[\"q′s\"];\n",
    "        close(folder2);\n",
    "\n",
    "        q′s1 == q′s2 ? println(\"q-ji so ok\") : println(\"q-ji niso ok\");\n",
    "\n",
    "        maxNumbOfIter = maxNumbOfIter1 + maxNumbOfIter2;\n",
    "        r = (r1*maxNumbOfIter1 + r2*maxNumbOfIter2)/maxNumbOfIter;\n",
    "\n",
    "        folder = jldopen(\"./Data/LevelSpacingRatio_L$(L)_Iter$(maxNumbOfIter).jld2\", \"w\");\n",
    "        folder[\"r\"] = r;\n",
    "        folder[\"q′s\"] = q′s;\n",
    "        close(folder);\n",
    "    end\n",
    "end\n",
    "\n",
    "# L′s = [6, 8, 10, 12];\n",
    "# maxNumbOfIter1 = 400;\n",
    "# maxNumbOfIter2 = 100;\n",
    "\n",
    "# JoinTwoLSRFiles(L′s, maxNumbOfIter1, maxNumbOfIter2)"
   ]
  },
  {
   "cell_type": "code",
   "execution_count": 6,
   "metadata": {},
   "outputs": [
    {
     "data": {
      "text/plain": [
       "Plot1 (generic function with 1 method)"
      ]
     },
     "metadata": {},
     "output_type": "display_data"
    }
   ],
   "source": [
    "function Plot1(L′s_lsr:: Vector{Int}, L′s_ie:: Vector{Int}, q′s_lsr:: Vector{Float64}, q′s_ie:: Vector{Float64}, maxNumbOfIter_lsr:: Int64, maxNumbOfIter_ie:: Int64)\n",
    "    dataLocation_prefix1:: String = \"./Data-ChaosIndicators/LevelSpacingRatio\";\n",
    "    dataLocation_prefix2:: String = \"./Data-ChaosIndicators/InformationalEntropy\";\n",
    "\n",
    "    levelSpacingRatio = PlotLevelSpacingRatio(L′s_lsr, q′s_lsr, maxNumbOfIter_lsr, dataLocation_prefix1, \"Level Spacing Ratio\");\n",
    "    informationalEntropy = PlotInformationalEntropy(L′s_ie, q′s_ie, maxNumbOfIter_ie, dataLocation_prefix2, \"Informational Entropy\");\n",
    "\n",
    "    ratio = 2.3;\n",
    "    dim = 500;\n",
    "    p = plot(levelSpacingRatio, informationalEntropy, layout=(1,2), size=(Int(dim*ratio),dim));\n",
    "\n",
    "    savefig(p, \"./Images-ChaosIndicators/ChaosIndicators_L$(L′s_lsr)_$(maxNumbOfIter_lsr)_$(maxNumbOfIter_lsr).pdf\");\n",
    "end"
   ]
  },
  {
   "cell_type": "code",
   "execution_count": 34,
   "metadata": {},
   "outputs": [
    {
     "data": {
      "text/plain": [
       "\"/Users/rokpintar/Desktop/FAX/MAG 2. /Magisterska naloga/Magisterska-Naloga-Program/MastersDegree/Plotting/ChaosIndicators/Images-ChaosIndicators/ChaosIndicators_L[6, 8, 10, 12]_500_500.pdf\""
      ]
     },
     "metadata": {},
     "output_type": "display_data"
    }
   ],
   "source": [
    "L′s_lsr = [6,8,10,12];\n",
    "maxNumbOfIter_lsr = 500;\n",
    "x_lsr= LinRange(-5, 1, 10);\n",
    "q′s_lsr = 10 .^(x);\n",
    "\n",
    "L′s_ie  = [8,10,12];\n",
    "maxNumbOfIter_ie = 200;\n",
    "x_ie= LinRange(-5, 1, 10);\n",
    "q′s_ie = 10 .^(x);\n",
    "\n",
    "Plot1(L′s_lsr, L′s_ie, q′s_lsr, q′s_ie, maxNumbOfIter_lsr, maxNumbOfIter_ie)"
   ]
  }
 ],
 "metadata": {
  "kernelspec": {
   "display_name": "Julia 1.7.3",
   "language": "julia",
   "name": "julia-1.7"
  },
  "language_info": {
   "file_extension": ".jl",
   "mimetype": "application/julia",
   "name": "julia",
   "version": "1.7.3"
  },
  "orig_nbformat": 4
 },
 "nbformat": 4,
 "nbformat_minor": 2
}
