{
 "cells": [
  {
   "cell_type": "code",
   "execution_count": 32,
   "metadata": {},
   "outputs": [
    {
     "name": "stderr",
     "output_type": "stream",
     "text": [
      "WARNING: replacing module H2.\n",
      "WARNING: replacing module H4.\n",
      "WARNING: replacing module ChaosIndicators.\n"
     ]
    },
    {
     "data": {
      "text/plain": [
       "15-element Vector{String}:\n",
       " \"-o\"\n",
       " \"-x\"\n",
       " \"-v\"\n",
       " \"-H\"\n",
       " \"-D\"\n",
       " \"-s\"\n",
       " \"-d\"\n",
       " \"-P\"\n",
       " \"-2\"\n",
       " \"-|\"\n",
       " \"-<\"\n",
       " \"->\"\n",
       " \"-_\"\n",
       " \"-+\"\n",
       " \"-,\""
      ]
     },
     "metadata": {},
     "output_type": "display_data"
    }
   ],
   "source": [
    "using Plots;\n",
    "pythonplot();\n",
    "using LinearAlgebra;\n",
    "using JLD2;\n",
    "using LaTeXStrings;\n",
    "\n",
    "include(\"../../Hamiltonians/H2.jl\");\n",
    "using .H2;\n",
    "include(\"../../Hamiltonians/H4.jl\");\n",
    "using .H4;\n",
    "include(\"../../Helpers/ChaosIndicators.jl\");\n",
    "using .ChaosIndicators;\n",
    "\n",
    "colors = [:dodgerblue :darkviolet :limegreen :indianred :magenta :darkblue :aqua :deeppink :dimgray :red :royalblue :slategray :black :lightseagreen :forestgreen :palevioletred]\n",
    "markers = [\"o\",\"x\",\"v\",\"*\",\"H\",\"D\",\"s\",\"d\",\"P\",\"2\",\"|\",\"<\",\">\",\"_\",\"+\",\",\"]\n",
    "markers_line = [\"-o\",\"-x\",\"-v\",\"-H\",\"-D\",\"-s\",\"-d\",\"-P\",\"-2\",\"-|\",\"-<\",\"->\",\"-_\",\"-+\",\"-,\"]\n"
   ]
  },
  {
   "attachments": {},
   "cell_type": "markdown",
   "metadata": {},
   "source": [
    "Level Spacing Ratio:"
   ]
  },
  {
   "cell_type": "code",
   "execution_count": 25,
   "metadata": {},
   "outputs": [
    {
     "data": {
      "text/plain": [
       "GetLevelSpacingRatioData (generic function with 1 method)"
      ]
     },
     "metadata": {},
     "output_type": "display_data"
    }
   ],
   "source": [
    "function GetLevelSpacingRatioData(L′s:: Vector{Int}, q′s:: Vector{Float64}, maxNumbOfIter:: Int64)\n",
    "    r = Vector{Vector{Float64}}(undef, length(L′s))\n",
    "\n",
    "    for (i,L) in enumerate(L′s)\n",
    "        println(L, \"--------\")\n",
    "        r[i] = ChaosIndicators.LevelSpacingRatio(L, q′s, maxNumbOfIter)\n",
    "\n",
    "        folder = jldopen(\"./Data-ChaosIndicators/LevelSpacingRatio_L$(L)_Iter$(maxNumbOfIter).jld2\", \"w\");\n",
    "        folder[\"r\"] = r[i];\n",
    "        folder[\"q′s\"] = q′s;\n",
    "        close(folder)        \n",
    "    end\n",
    "\n",
    "    println(r)\n",
    "\n",
    "end\n"
   ]
  },
  {
   "cell_type": "code",
   "execution_count": 27,
   "metadata": {},
   "outputs": [
    {
     "data": {
      "text/plain": [
       "PlotLevelSpacingRatio (generic function with 1 method)"
      ]
     },
     "metadata": {},
     "output_type": "display_data"
    }
   ],
   "source": [
    "function PlotLevelSpacingRatio(L′s:: Vector{Int}, q′s:: Vector{Float64}, maxNumbOfIter:: Int64)\n",
    "\n",
    "    levelSpacingRatio = plot(xscale=:log10, minorgrid=true, framestyle = :box, legend=:topleft);\n",
    "\n",
    "    plot!(levelSpacingRatio, q′s, 0.3863 .* ones(Float64, length(q′s)), ls=:dash, label=\"Poisson\");\n",
    "    plot!(levelSpacingRatio, q′s, 0.5359 .* ones(Float64, length(q′s)), ls=:dash, label=\"GOE\");\n",
    "\n",
    "    for (i,L) in enumerate(L′s) \n",
    "        folder = jldopen(\"./Data-ChaosIndicators/LevelSpacingRatio_L$(L)_Iter$(maxNumbOfIter).jld2\", \"r\");\n",
    "        r = folder[\"r\"];\n",
    "        q′s = folder[\"q′s\"];\n",
    "        close(folder);\n",
    "\n",
    "        plot!(levelSpacingRatio, q′s, r, lc = colors[i], label=\"L=$(L)\");\n",
    "\n",
    "    end\n",
    "\n",
    "    xlabel!(L\"q\");\n",
    "    ylabel!(L\"r\");\n",
    "\n",
    "    return levelSpacingRatio;\n",
    "end"
   ]
  },
  {
   "attachments": {},
   "cell_type": "markdown",
   "metadata": {},
   "source": [
    "Informational entropy"
   ]
  },
  {
   "cell_type": "code",
   "execution_count": 28,
   "metadata": {},
   "outputs": [
    {
     "data": {
      "text/plain": [
       "GetInformationalEntropyData (generic function with 1 method)"
      ]
     },
     "metadata": {},
     "output_type": "display_data"
    }
   ],
   "source": [
    "function GetInformationalEntropyData(L′s:: Vector{Int}, q′s:: Vector{Float64}, maxNumbOfIter:: Int64)\n",
    "    S = Vector{Vector{Float64}}(undef, length(L′s))\n",
    "\n",
    "    for (i,L) in enumerate(L′s)\n",
    "        println(L, \"--------\")\n",
    "        S[i] = ChaosIndicators.InformationalEntropy(L, q′s, maxNumbOfIter)\n",
    "\n",
    "        folder = jldopen(\"./Data-ChaosIndicators/InformationalEntropy_L$(L)_Iter$(maxNumbOfIter)_fixedNormalization.jld2\", \"w\");\n",
    "        folder[\"S\"] = S[i];\n",
    "        folder[\"q′s\"] = q′s;\n",
    "        close(folder)        \n",
    "    end\n",
    "\n",
    "    println(S)\n",
    "\n",
    "end"
   ]
  },
  {
   "cell_type": "code",
   "execution_count": 29,
   "metadata": {},
   "outputs": [
    {
     "data": {
      "text/plain": [
       "PlotInformationalEntropy (generic function with 1 method)"
      ]
     },
     "metadata": {},
     "output_type": "display_data"
    }
   ],
   "source": [
    "function PlotInformationalEntropy(L′s:: Vector{Int}, q′s:: Vector{Float64}, maxNumbOfIter:: Int64)\n",
    "    informationalEntropy = plot(xscale=:log10, minorgrid=true, framestyle = :box, legend=:topleft);\n",
    "\n",
    "    plot!(informationalEntropy, q′s,  ones(Float64, length(q′s)), ls=:dash, label=\"\");\n",
    "\n",
    "    for (i,L) in enumerate(L′s) \n",
    "        folder = jldopen(\"./Data-ChaosIndicators/InformationalEntropy_L$(L)_Iter$(maxNumbOfIter).jld2\", \"r\");\n",
    "        S = folder[\"S\"];\n",
    "        q′s = folder[\"q′s\"];\n",
    "        close(folder);\n",
    "        \n",
    "        plot!(informationalEntropy, q′s, S, lc = colors[i], label=\"L=$(L)\");\n",
    "\n",
    "    end\n",
    "\n",
    "    xlabel!(L\"q\");\n",
    "    ylabel!(L\"S\");\n",
    "\n",
    "    return informationalEntropy;\n",
    "end"
   ]
  },
  {
   "attachments": {},
   "cell_type": "markdown",
   "metadata": {},
   "source": [
    "Entanglement Entropy"
   ]
  },
  {
   "cell_type": "code",
   "execution_count": 33,
   "metadata": {},
   "outputs": [
    {
     "data": {
      "text/plain": [
       "GetEntanglementEntropyData (generic function with 1 method)"
      ]
     },
     "metadata": {},
     "output_type": "display_data"
    }
   ],
   "source": [
    "function GetEntanglementEntropyData(L′s:: Vector{Int}, q′s:: Vector{Float64}, maxNumbOfIter:: Int64)\n",
    "\n",
    "    for (i,L) in enumerate(L′s)\n",
    "        println(L, \"--------\");\n",
    "        permutation1 = [1:1:L...];\n",
    "        permutation2 = [1:2:L..., 2:2:L...];\n",
    "        permutations = [permutation1, permutation2];\n",
    "\n",
    "        E = ChaosIndicators.EntanglementEntropy(L, q′s, maxNumbOfIter, permutations)\n",
    "\n",
    "        folder = jldopen(\"./Data-ChaosIndicators/EntanglementEntropy_L$(L)_Iter$(maxNumbOfIter).jld2\", \"w\");\n",
    "        folder[\"E\"] = E;\n",
    "        folder[\"q′s\"] = q′s;\n",
    "        close(folder)        \n",
    "    end\n",
    "\n",
    "\n",
    "end"
   ]
  },
  {
   "attachments": {},
   "cell_type": "markdown",
   "metadata": {},
   "source": [
    "Retrive data"
   ]
  },
  {
   "cell_type": "code",
   "execution_count": 9,
   "metadata": {},
   "outputs": [
    {
     "data": {
      "text/plain": [
       "100"
      ]
     },
     "metadata": {},
     "output_type": "display_data"
    }
   ],
   "source": [
    "L′s = [6,8,10,12];\n",
    "x= LinRange(-5, 1, 20);\n",
    "q′s = 10 .^(x);\n",
    "maxNumbOfIter = 100\n",
    "\n",
    "# GetLevelSpacingRatioData(L′s, q′s, maxNumbOfIter)"
   ]
  },
  {
   "cell_type": "code",
   "execution_count": 10,
   "metadata": {},
   "outputs": [
    {
     "data": {
      "text/plain": [
       "200"
      ]
     },
     "metadata": {},
     "output_type": "display_data"
    }
   ],
   "source": [
    "L′s = [6,8,10,12];\n",
    "x= LinRange(-5, 1, 20);\n",
    "q′s = 10 .^(x);\n",
    "maxNumbOfIter = 200\n",
    "\n",
    "# GetInformationalEntropyData(L′s, q′s, maxNumbOfIter)"
   ]
  },
  {
   "cell_type": "code",
   "execution_count": 34,
   "metadata": {},
   "outputs": [
    {
     "name": "stdout",
     "output_type": "stream",
     "text": [
      "12--------\n"
     ]
    }
   ],
   "source": [
    "L′s = [12];\n",
    "x= LinRange(-3, 1, 20);\n",
    "q′s = 10 .^(x);\n",
    "maxNumbOfIter = 200\n",
    "\n",
    "GetEntanglementEntropyData(L′s, q′s, maxNumbOfIter);"
   ]
  },
  {
   "cell_type": "code",
   "execution_count": 12,
   "metadata": {},
   "outputs": [
    {
     "data": {
      "text/plain": [
       "JoinTwoLSRFiles (generic function with 1 method)"
      ]
     },
     "metadata": {},
     "output_type": "display_data"
    }
   ],
   "source": [
    "function JoinTwoLSRFiles(L′s, maxNumbOfIter1, maxNumbOfIter2)\n",
    "    \n",
    "    for L in L′s\n",
    "        folder1 = jldopen(\"./Data/LevelSpacingRatio_L$(L)_Iter$(maxNumbOfIter1).jld2\", \"r\");\n",
    "        r1 = folder1[\"r\"];\n",
    "        q′s1 = folder1[\"q′s\"];\n",
    "        close(folder1);\n",
    "        \n",
    "        folder2 = jldopen(\"./Data/LevelSpacingRatio_L$(L)_Iter$(maxNumbOfIter2).jld2\", \"r\");\n",
    "        r2 = folder2[\"r\"];\n",
    "        q′s2 = folder2[\"q′s\"];\n",
    "        close(folder2);\n",
    "\n",
    "        q′s1 == q′s2 ? println(\"q-ji so ok\") : println(\"q-ji niso ok\");\n",
    "\n",
    "        maxNumbOfIter = maxNumbOfIter1 + maxNumbOfIter2;\n",
    "        r = (r1*maxNumbOfIter1 + r2*maxNumbOfIter2)/maxNumbOfIter;\n",
    "\n",
    "        folder = jldopen(\"./Data/LevelSpacingRatio_L$(L)_Iter$(maxNumbOfIter).jld2\", \"w\");\n",
    "        folder[\"r\"] = r;\n",
    "        folder[\"q′s\"] = q′s;\n",
    "        close(folder);\n",
    "    end\n",
    "end\n",
    "\n",
    "# L′s = [6, 8, 10, 12];\n",
    "# maxNumbOfIter1 = 400;\n",
    "# maxNumbOfIter2 = 100;\n",
    "\n",
    "# JoinTwoLSRFiles(L′s, maxNumbOfIter1, maxNumbOfIter2)"
   ]
  },
  {
   "attachments": {},
   "cell_type": "markdown",
   "metadata": {},
   "source": [
    "Plotting data"
   ]
  },
  {
   "cell_type": "code",
   "execution_count": 19,
   "metadata": {},
   "outputs": [
    {
     "data": {
      "text/plain": [
       "Plot1 (generic function with 1 method)"
      ]
     },
     "metadata": {},
     "output_type": "display_data"
    }
   ],
   "source": [
    "function Plot1(L′s_lsr:: Vector{Int}, L′s_ie:: Vector{Int}, q′s_lsr:: Vector{Float64}, q′s_ie:: Vector{Float64}, maxNumbOfIter_lsr:: Int64, maxNumbOfIter_ie:: Int64)\n",
    "\n",
    "    levelSpacingRatio = PlotLevelSpacingRatio(L′s_lsr, q′s_lsr, maxNumbOfIter_lsr);\n",
    "    informationalEntropy = PlotInformationalEntropy(L′s_ie, q′s_ie, maxNumbOfIter_ie);\n",
    "\n",
    "    ratio = 2.3;\n",
    "    dim = 500;\n",
    "    p = plot(levelSpacingRatio, informationalEntropy, layout=(1,2), size=(Int(dim*ratio),dim));\n",
    "\n",
    "    savefig(p, \"./Images-ChaosIndicators/ChaosIndicators_L$(L′s_lsr)_$(maxNumbOfIter_lsr)_$(maxNumbOfIter_lsr).pdf\");\n",
    "end"
   ]
  },
  {
   "cell_type": "code",
   "execution_count": 23,
   "metadata": {},
   "outputs": [
    {
     "name": "stderr",
     "output_type": "stream",
     "text": [
      "┌ Warning: Opening file with JLD2.MmapIO failed, falling back to IOStream\n",
      "└ @ JLD2 /Users/rokpintar/.julia/packages/JLD2/r5t7Q/src/JLD2.jl:286\n"
     ]
    },
    {
     "ename": "SystemError",
     "evalue": "SystemError: opening file \"./Data-ChaosIndicators/InformationalEntropy_L8_Iter200.jld2\": No such file or directory",
     "output_type": "error",
     "traceback": [
      "SystemError: opening file \"./Data-ChaosIndicators/InformationalEntropy_L8_Iter200.jld2\": No such file or directory\n",
      "\n",
      "Stacktrace:\n",
      "  [1] systemerror(p::String, errno::Int32; extrainfo::Nothing)\n",
      "    @ Base ./error.jl:174\n",
      "  [2] #systemerror#68\n",
      "    @ ./error.jl:173 [inlined]\n",
      "  [3] systemerror\n",
      "    @ ./error.jl:173 [inlined]\n",
      "  [4] open(fname::String; lock::Bool, read::Bool, write::Bool, create::Bool, truncate::Bool, append::Bool)\n",
      "    @ Base ./iostream.jl:293\n",
      "  [5] openfile\n",
      "    @ ~/.julia/packages/JLD2/r5t7Q/src/JLD2.jl:276 [inlined]\n",
      "  [6] openfile(T::Type, fname::String, wr::Bool, create::Bool, truncate::Bool, fallback::Type)\n",
      "    @ JLD2 ~/.julia/packages/JLD2/r5t7Q/src/JLD2.jl:287\n",
      "  [7] jldopen(fname::String, wr::Bool, create::Bool, truncate::Bool, iotype::Type{JLD2.MmapIO}; fallback::Type{IOStream}, compress::Bool, mmaparrays::Bool, typemap::Dict{String, Any})\n",
      "    @ JLD2 ~/.julia/packages/JLD2/r5t7Q/src/JLD2.jl:343\n",
      "  [8] jldopen(fname::String, wr::Bool, create::Bool, truncate::Bool, iotype::Type{JLD2.MmapIO})\n",
      "    @ JLD2 ~/.julia/packages/JLD2/r5t7Q/src/JLD2.jl:306\n",
      "  [9] jldopen(fname::String, mode::String; iotype::Type, kwargs::Base.Pairs{Symbol, Union{}, Tuple{}, NamedTuple{(), Tuple{}}})\n",
      "    @ JLD2 ~/.julia/packages/JLD2/r5t7Q/src/JLD2.jl:423\n",
      " [10] jldopen\n",
      "    @ ~/.julia/packages/JLD2/r5t7Q/src/JLD2.jl:418 [inlined]\n",
      " [11] PlotInformationalEntropy(L′s::Vector{Int64}, q′s::Vector{Float64}, maxNumbOfIter::Int64)\n",
      "    @ Main ~/Desktop/FAX/MAG 2. /Magisterska naloga/MastersDegree-Program/Plotting/ChaosIndicators/ChaosIndicators-plotting.ipynb:7\n",
      " [12] top-level scope\n",
      "    @ ~/Desktop/FAX/MAG 2. /Magisterska naloga/MastersDegree-Program/Plotting/ChaosIndicators/ChaosIndicators-plotting.ipynb:19"
     ]
    }
   ],
   "source": [
    "L′s_lsr = [6,8,10,12];\n",
    "maxNumbOfIter_lsr = 500;\n",
    "x_lsr= LinRange(-5, 1, 10);\n",
    "q′s_lsr = 10 .^(x);\n",
    "\n",
    "L′s_ie  = [8,10,12];\n",
    "maxNumbOfIter_ie = 200;\n",
    "x_ie= LinRange(-5, 1, 10);\n",
    "q′s_ie = 10 .^(x);\n",
    "\n",
    "\n",
    "levelSpacingRatio = PlotLevelSpacingRatio(L′s_lsr, q′s_lsr, maxNumbOfIter_lsr);\n",
    "ratio = 1.4;\n",
    "dim = 300;\n",
    "p = plot(levelSpacingRatio, layout=(1,1), size=(Int(dim*ratio),dim));\n",
    "savefig(p, \"./Images-ChaosIndicators/SpektralnaStatistikaHamiltonke_L$(L′s_lsr)_$(maxNumbOfIter_lsr)_$(maxNumbOfIter_lsr).pdf\");\n",
    "\n",
    "\n",
    "informationalEntropy = PlotInformationalEntropy(L′s_ie, q′s_ie, maxNumbOfIter_ie);\n",
    "\n",
    "# Plot1(L′s_lsr, L′s_ie, q′s_lsr, q′s_ie, maxNumbOfIter_lsr, maxNumbOfIter_ie)"
   ]
  },
  {
   "cell_type": "code",
   "execution_count": 17,
   "metadata": {},
   "outputs": [
    {
     "data": {
      "text/plain": [
       "PlotEntanglementEntropy (generic function with 2 methods)"
      ]
     },
     "metadata": {},
     "output_type": "display_data"
    }
   ],
   "source": [
    "function PlotEntanglementEntropy(L′s:: Vector{Int},  maxNumbOfIter′s:: Vector{Int})\n",
    "    compactBipartion    = plot(xscale=:log10, minorgrid=true, framestyle = :box, legend=:topleft, title = \"Prepletenostna entropija\"); \n",
    "    nonCompactBipartion = plot(xscale=:log10, minorgrid=true, framestyle = :box, legend=:topleft, title = \"Prepletenostna entropija\"); \n",
    "\n",
    "    # plot!(informationalEntropy, q′s,  ones(Float64, length(q′s)), ls=:dash, label=\"\");\n",
    "\n",
    "    for (i,L) in enumerate(L′s) \n",
    "        # D = binomial(L,L÷2)\n",
    "        # D=Int(2^L)÷2\n",
    "        # norm = log(D/2)\n",
    "        norm = 1.\n",
    "\n",
    "        folder = jldopen(\"./Data-ChaosIndicators/EntanglementEntropy_L$(L)_Iter$(maxNumbOfIter′s[i]).jld2\", \"r\");\n",
    "        E = folder[\"E\"]./norm;\n",
    "        q′s = folder[\"q′s\"];\n",
    "        close(folder);\n",
    "        \n",
    "        plot!(compactBipartion, q′s, E[1,:], lc = colors[i], label=\"L=$(L)\");\n",
    "        plot!(nonCompactBipartion, q′s, E[2,:], lc = colors[i], label=\"L=$(L)\");\n",
    "    end\n",
    "\n",
    "    xlabel!(compactBipartion, L\"q\");\n",
    "    ylabel!(compactBipartion, L\"E\");\n",
    "\n",
    "    xlabel!(nonCompactBipartion, L\"q\");\n",
    "    ylabel!(nonCompactBipartion, L\"E\");\n",
    "\n",
    "    ratio = 2.3;\n",
    "    dim = 500;\n",
    "    p = plot(compactBipartion, nonCompactBipartion, layout=(1,2), size=(Int(dim*ratio),dim));\n",
    "\n",
    "    savefig(p, \"./Images-ChaosIndicators/EntanglementEntropy_L$(L′s)_$(maxNumbOfIter).pdf\");\n",
    "    \n",
    "end"
   ]
  },
  {
   "cell_type": "code",
   "execution_count": 23,
   "metadata": {},
   "outputs": [
    {
     "data": {
      "text/plain": [
       "\"/Users/rokpintar/Desktop/FAX/MAG 2. /Magisterska naloga/MastersDegree-Program/Plotting/ChaosIndicators/Images-ChaosIndicators/EntanglementEntropy_L[6, 8]_200.pdf\""
      ]
     },
     "metadata": {},
     "output_type": "display_data"
    }
   ],
   "source": [
    "L′s = [6,8];\n",
    "maxNumbOfIter′s = [200, 200]\n",
    "\n",
    "PlotEntanglementEntropy(L′s, maxNumbOfIter′s)"
   ]
  },
  {
   "cell_type": "code",
   "execution_count": 48,
   "metadata": {},
   "outputs": [],
   "source": [
    "using PyPlot\n",
    "\n",
    "function PlotEntanglementEntropyInPyPlot(L′s:: Vector{Int}, maxNumbOfIter′s:: Vector{Int}, q′s:: Vector{Float64})\n",
    "    plt.style.use([\"don_custom\"])\n",
    "    fig, ax = plt.subplots(ncols=2, figsize=(9, 4))\n",
    "\n",
    "\n",
    "    for (i,L) in enumerate(L′s) \n",
    "        # D = binomial(L,L÷2)\n",
    "        # D=Int(2^L)÷2\n",
    "        # norm = log(D/2)\n",
    "        # norm = 1.\n",
    "\n",
    "        folder = jldopen(\"./Data-ChaosIndicators/EntanglementEntropy_L$(L)_Iter$(maxNumbOfIter′s[i]).jld2\", \"r\");\n",
    "        E = folder[\"E\"]./norm;\n",
    "        q′s = folder[\"q′s\"];\n",
    "        close(folder);\n",
    "\n",
    "        ax[1].plot(q′s, E[1,:], label=L\"L=%$(L)\")\n",
    "        ax[2].plot(q′s, E[2,:], label=L\"L=%$(L)\")\n",
    "    end\n",
    "\n",
    "    ax[1].legend()\n",
    "    ax[2].legend()\n",
    "\n",
    "    fig.tight_layout()\n",
    "    display(fig)\n",
    "\n",
    "end\n",
    "\n",
    "\n"
   ]
  },
  {
   "cell_type": "code",
   "execution_count": null,
   "metadata": {},
   "outputs": [],
   "source": [
    "L′s = [6,8,10];\n",
    "maxNumbOfIter′s = [200, 200, 200]\n",
    "\n",
    "PlotEntanglementEntropyInPyPlot(L′s, maxNumbOfIter′s, q′s)"
   ]
  }
 ],
 "metadata": {
  "kernelspec": {
   "display_name": "Julia 1.7.3",
   "language": "julia",
   "name": "julia-1.7"
  },
  "language_info": {
   "file_extension": ".jl",
   "mimetype": "application/julia",
   "name": "julia",
   "version": "1.7.3"
  },
  "orig_nbformat": 4
 },
 "nbformat": 4,
 "nbformat_minor": 2
}
